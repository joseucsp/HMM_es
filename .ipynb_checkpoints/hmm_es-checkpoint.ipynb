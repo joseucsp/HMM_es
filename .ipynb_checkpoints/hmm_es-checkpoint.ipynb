{
 "cells": [
  {
   "cell_type": "code",
   "execution_count": 212,
   "metadata": {},
   "outputs": [],
   "source": [
    "f = open(\"data/esp-train.txt\", \"r\", encoding='utf8',errors=\"ignore\")"
   ]
  },
  {
   "cell_type": "code",
   "execution_count": 213,
   "metadata": {},
   "outputs": [],
   "source": [
    "# -*- coding: utf-8 -*-\n",
    "\n",
    "train_text  = f.read()\n",
    "train_lines = train_text.split(\"\\n\")"
   ]
  },
  {
   "cell_type": "code",
   "execution_count": 83,
   "metadata": {},
   "outputs": [
    {
     "name": "stdout",
     "output_type": "stream",
     "text": [
      "Lines :  273038\n"
     ]
    }
   ],
   "source": [
    "n_lines = len(train_lines)\n",
    "print(\"Lines : \", n_lines)"
   ]
  },
  {
   "cell_type": "code",
   "execution_count": 202,
   "metadata": {},
   "outputs": [],
   "source": [
    "def getData(lines):\n",
    "    input_ = []\n",
    "    label_ = []\n",
    "    blanks = 0\n",
    "    \n",
    "    n_lines = len(lines)\n",
    "    \n",
    "    for i in range(n_lines):\n",
    "        if lines[i] != \"\":\n",
    "            Xi, yi = lines[i].split(\" \")\n",
    "            input_.append(Xi)\n",
    "            label_.append(yi)\n",
    "        else:\n",
    "            blanks+=1\n",
    "        \n",
    "    n_lines -= blanks\n",
    "    \n",
    "    return input_, label_, n_lines"
   ]
  },
  {
   "cell_type": "code",
   "execution_count": 221,
   "metadata": {},
   "outputs": [],
   "source": [
    "input_train, label_train, n_lines = getData(train_lines)"
   ]
  },
  {
   "cell_type": "code",
   "execution_count": 222,
   "metadata": {},
   "outputs": [
    {
     "data": {
      "text/plain": [
       "264715"
      ]
     },
     "execution_count": 222,
     "metadata": {},
     "output_type": "execute_result"
    }
   ],
   "source": [
    "len(input_train)\n",
    "n_lines"
   ]
  },
  {
   "cell_type": "code",
   "execution_count": 204,
   "metadata": {},
   "outputs": [],
   "source": [
    "import collections\n",
    "\n",
    "label_count =  collections.Counter(label_train)\n",
    "label_prob  = { k : v/n_lines for k, v in label_count.items()}"
   ]
  },
  {
   "cell_type": "code",
   "execution_count": 205,
   "metadata": {},
   "outputs": [],
   "source": [
    "assert (1 == sum(label_prob.values()))"
   ]
  },
  {
   "cell_type": "code",
   "execution_count": 206,
   "metadata": {},
   "outputs": [],
   "source": [
    "def mapping_function(input_train, label_input,n_lines, prob_y):\n",
    "    res = {}\n",
    "    \n",
    "    for i in range(n_lines):\n",
    "        if input_train[i] not in res:\n",
    "            res[input_train[i]] = {}\n",
    "        \n",
    "        if label_input[i] not in res[input_train[i]]:\n",
    "                res[input_train[i]][label_input[i]]  = 1\n",
    "                \n",
    "        else:\n",
    "            res[input_train[i]][label_input[i]] += 1 \n",
    "    \n",
    "    \n",
    "    for key, val in res.items():\n",
    "        sumLabels = sum(val.values())\n",
    "        for k, v in val.items():\n",
    "            res[key][k] = v / sumLabels\n",
    "    \n",
    "    for key, val in res.items():\n",
    "        for k, v in val.items():\n",
    "            res[key][k] = v * prob_y[k]\n",
    "            \n",
    "    return res"
   ]
  },
  {
   "cell_type": "code",
   "execution_count": 207,
   "metadata": {},
   "outputs": [],
   "source": [
    "prob_dist = mapping_function(input_train, label_train, n_lines, label_prob)"
   ]
  },
  {
   "cell_type": "code",
   "execution_count": 208,
   "metadata": {},
   "outputs": [],
   "source": [
    "def predict(word, prob_dist):\n",
    "    maxVal = max(prob_dist[word].values())\n",
    "    for k, v in prob_dist[word].items():\n",
    "        if v == maxVal:\n",
    "            return k"
   ]
  },
  {
   "cell_type": "code",
   "execution_count": 209,
   "metadata": {},
   "outputs": [
    {
     "data": {
      "text/plain": [
       "'B-LOC'"
      ]
     },
     "execution_count": 209,
     "metadata": {},
     "output_type": "execute_result"
    }
   ],
   "source": [
    "predict('Australia', prob_dist)"
   ]
  },
  {
   "cell_type": "code",
   "execution_count": 210,
   "metadata": {},
   "outputs": [],
   "source": [
    "f.close()"
   ]
  },
  {
   "cell_type": "code",
   "execution_count": null,
   "metadata": {},
   "outputs": [],
   "source": [
    "del testing(input_test, label_test, prob_dist):\n",
    "    n   = len(input_test)\n",
    "    acc = 0.\n",
    "    \n",
    "    for i in range(n)"
   ]
  },
  {
   "cell_type": "code",
   "execution_count": 216,
   "metadata": {},
   "outputs": [],
   "source": [
    "f = open(\"data/esp-testa.txt\", \"r\", encoding='utf8',errors=\"ignore\")\n",
    "\n",
    "testa_text  = f.read()\n",
    "testa_lines = testa_text.split(\"\\n\")"
   ]
  },
  {
   "cell_type": "code",
   "execution_count": 217,
   "metadata": {},
   "outputs": [],
   "source": [
    "input_testa, label_testa, n_lines = getData(testa_lines)"
   ]
  },
  {
   "cell_type": "code",
   "execution_count": null,
   "metadata": {},
   "outputs": [],
   "source": []
  }
 ],
 "metadata": {
  "kernelspec": {
   "display_name": "Python 3",
   "language": "python",
   "name": "python3"
  },
  "language_info": {
   "codemirror_mode": {
    "name": "ipython",
    "version": 3
   },
   "file_extension": ".py",
   "mimetype": "text/x-python",
   "name": "python",
   "nbconvert_exporter": "python",
   "pygments_lexer": "ipython3",
   "version": "3.6.7"
  }
 },
 "nbformat": 4,
 "nbformat_minor": 2
}
